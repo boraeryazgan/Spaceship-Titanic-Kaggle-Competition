{
 "cells": [
  {
   "cell_type": "code",
   "execution_count": 39,
   "outputs": [],
   "source": [
    "import pandas as pd\n",
    "import numpy as np\n",
    "import matplotlib.pyplot as plt\n",
    "import seaborn as sns"
   ],
   "metadata": {
    "collapsed": false,
    "ExecuteTime": {
     "end_time": "2023-06-26T14:44:49.086161Z",
     "start_time": "2023-06-26T14:44:49.031790Z"
    }
   }
  },
  {
   "cell_type": "code",
   "execution_count": 40,
   "outputs": [
    {
     "data": {
      "text/plain": "  PassengerId HomePlanet CryoSleep  Cabin  Destination   Age    VIP  \\\n0     0001_01     Europa     False  B/0/P  TRAPPIST-1e  39.0  False   \n1     0002_01      Earth     False  F/0/S  TRAPPIST-1e  24.0  False   \n2     0003_01     Europa     False  A/0/S  TRAPPIST-1e  58.0   True   \n3     0003_02     Europa     False  A/0/S  TRAPPIST-1e  33.0  False   \n4     0004_01      Earth     False  F/1/S  TRAPPIST-1e  16.0  False   \n\n   RoomService  FoodCourt  ShoppingMall     Spa  VRDeck               Name  \\\n0          0.0        0.0           0.0     0.0     0.0    Maham Ofracculy   \n1        109.0        9.0          25.0   549.0    44.0       Juanna Vines   \n2         43.0     3576.0           0.0  6715.0    49.0      Altark Susent   \n3          0.0     1283.0         371.0  3329.0   193.0       Solam Susent   \n4        303.0       70.0         151.0   565.0     2.0  Willy Santantines   \n\n   Transported  \n0        False  \n1         True  \n2        False  \n3        False  \n4         True  ",
      "text/html": "<div>\n<style scoped>\n    .dataframe tbody tr th:only-of-type {\n        vertical-align: middle;\n    }\n\n    .dataframe tbody tr th {\n        vertical-align: top;\n    }\n\n    .dataframe thead th {\n        text-align: right;\n    }\n</style>\n<table border=\"1\" class=\"dataframe\">\n  <thead>\n    <tr style=\"text-align: right;\">\n      <th></th>\n      <th>PassengerId</th>\n      <th>HomePlanet</th>\n      <th>CryoSleep</th>\n      <th>Cabin</th>\n      <th>Destination</th>\n      <th>Age</th>\n      <th>VIP</th>\n      <th>RoomService</th>\n      <th>FoodCourt</th>\n      <th>ShoppingMall</th>\n      <th>Spa</th>\n      <th>VRDeck</th>\n      <th>Name</th>\n      <th>Transported</th>\n    </tr>\n  </thead>\n  <tbody>\n    <tr>\n      <th>0</th>\n      <td>0001_01</td>\n      <td>Europa</td>\n      <td>False</td>\n      <td>B/0/P</td>\n      <td>TRAPPIST-1e</td>\n      <td>39.0</td>\n      <td>False</td>\n      <td>0.0</td>\n      <td>0.0</td>\n      <td>0.0</td>\n      <td>0.0</td>\n      <td>0.0</td>\n      <td>Maham Ofracculy</td>\n      <td>False</td>\n    </tr>\n    <tr>\n      <th>1</th>\n      <td>0002_01</td>\n      <td>Earth</td>\n      <td>False</td>\n      <td>F/0/S</td>\n      <td>TRAPPIST-1e</td>\n      <td>24.0</td>\n      <td>False</td>\n      <td>109.0</td>\n      <td>9.0</td>\n      <td>25.0</td>\n      <td>549.0</td>\n      <td>44.0</td>\n      <td>Juanna Vines</td>\n      <td>True</td>\n    </tr>\n    <tr>\n      <th>2</th>\n      <td>0003_01</td>\n      <td>Europa</td>\n      <td>False</td>\n      <td>A/0/S</td>\n      <td>TRAPPIST-1e</td>\n      <td>58.0</td>\n      <td>True</td>\n      <td>43.0</td>\n      <td>3576.0</td>\n      <td>0.0</td>\n      <td>6715.0</td>\n      <td>49.0</td>\n      <td>Altark Susent</td>\n      <td>False</td>\n    </tr>\n    <tr>\n      <th>3</th>\n      <td>0003_02</td>\n      <td>Europa</td>\n      <td>False</td>\n      <td>A/0/S</td>\n      <td>TRAPPIST-1e</td>\n      <td>33.0</td>\n      <td>False</td>\n      <td>0.0</td>\n      <td>1283.0</td>\n      <td>371.0</td>\n      <td>3329.0</td>\n      <td>193.0</td>\n      <td>Solam Susent</td>\n      <td>False</td>\n    </tr>\n    <tr>\n      <th>4</th>\n      <td>0004_01</td>\n      <td>Earth</td>\n      <td>False</td>\n      <td>F/1/S</td>\n      <td>TRAPPIST-1e</td>\n      <td>16.0</td>\n      <td>False</td>\n      <td>303.0</td>\n      <td>70.0</td>\n      <td>151.0</td>\n      <td>565.0</td>\n      <td>2.0</td>\n      <td>Willy Santantines</td>\n      <td>True</td>\n    </tr>\n  </tbody>\n</table>\n</div>"
     },
     "execution_count": 40,
     "metadata": {},
     "output_type": "execute_result"
    }
   ],
   "source": [
    "df = pd.read_csv(\"./spaceship-titanic/train.csv\")\n",
    "\n",
    "df.head()"
   ],
   "metadata": {
    "collapsed": false,
    "ExecuteTime": {
     "end_time": "2023-06-26T14:44:49.127135Z",
     "start_time": "2023-06-26T14:44:49.044357Z"
    }
   }
  },
  {
   "cell_type": "code",
   "execution_count": 41,
   "outputs": [
    {
     "name": "stdout",
     "output_type": "stream",
     "text": [
      "<class 'pandas.core.frame.DataFrame'>\n",
      "RangeIndex: 8693 entries, 0 to 8692\n",
      "Data columns (total 14 columns):\n",
      " #   Column        Non-Null Count  Dtype  \n",
      "---  ------        --------------  -----  \n",
      " 0   PassengerId   8693 non-null   object \n",
      " 1   HomePlanet    8492 non-null   object \n",
      " 2   CryoSleep     8476 non-null   object \n",
      " 3   Cabin         8494 non-null   object \n",
      " 4   Destination   8511 non-null   object \n",
      " 5   Age           8514 non-null   float64\n",
      " 6   VIP           8490 non-null   object \n",
      " 7   RoomService   8512 non-null   float64\n",
      " 8   FoodCourt     8510 non-null   float64\n",
      " 9   ShoppingMall  8485 non-null   float64\n",
      " 10  Spa           8510 non-null   float64\n",
      " 11  VRDeck        8505 non-null   float64\n",
      " 12  Name          8493 non-null   object \n",
      " 13  Transported   8693 non-null   bool   \n",
      "dtypes: bool(1), float64(6), object(7)\n",
      "memory usage: 891.5+ KB\n"
     ]
    }
   ],
   "source": [
    "df.info()"
   ],
   "metadata": {
    "collapsed": false,
    "ExecuteTime": {
     "end_time": "2023-06-26T14:44:49.127655Z",
     "start_time": "2023-06-26T14:44:49.073639Z"
    }
   }
  },
  {
   "cell_type": "code",
   "execution_count": 42,
   "outputs": [
    {
     "data": {
      "text/plain": "     PassengerId HomePlanet CryoSleep     Cabin  Destination   Age    VIP  \\\n7        0006_02      Earth      True     G/0/S  TRAPPIST-1e  28.0  False   \n10       0008_02     Europa      True     B/1/P  TRAPPIST-1e  34.0  False   \n15       0012_01      Earth     False       NaN  TRAPPIST-1e  31.0  False   \n16       0014_01       Mars     False     F/3/P  55 Cancri e  27.0  False   \n23       0020_03      Earth      True     E/0/S  55 Cancri e  29.0  False   \n...          ...        ...       ...       ...          ...   ...    ...   \n8667     9250_01     Europa     False   E/597/P  TRAPPIST-1e  29.0  False   \n8674     9257_01        NaN     False  F/1892/P  TRAPPIST-1e  13.0  False   \n8675     9259_01      Earth       NaN  F/1893/P  TRAPPIST-1e  44.0  False   \n8684     9274_01        NaN      True  G/1508/P  TRAPPIST-1e  23.0  False   \n8687     9275_03     Europa       NaN    A/97/P  TRAPPIST-1e  30.0  False   \n\n      RoomService  FoodCourt  ShoppingMall   Spa  VRDeck                Name  \\\n7             0.0        0.0           0.0   0.0     NaN  Candra Jacostaffey   \n10            0.0        0.0           NaN   0.0     0.0      Altardr Flatic   \n15           32.0        0.0         876.0   0.0     0.0       Justie Pooles   \n16         1286.0      122.0           NaN   0.0     0.0         Flats Eccle   \n23            0.0        0.0           NaN   0.0     0.0  Mollen Mcfaddennon   \n...           ...        ...           ...   ...     ...                 ...   \n8667          0.0     2972.0           NaN  28.0   188.0    Chain Reedectied   \n8674         39.0        0.0        1085.0  24.0     0.0          Ties Apple   \n8675       1030.0     1015.0           0.0  11.0     NaN     Annah Gilleyons   \n8684          0.0        0.0           0.0   0.0     0.0     Chelsa Bullisey   \n8687          0.0     3208.0           0.0   2.0   330.0     Atlasym Conable   \n\n      Transported  \n7            True  \n10           True  \n15          False  \n16          False  \n23          False  \n...           ...  \n8667         True  \n8674        False  \n8675         True  \n8684         True  \n8687         True  \n\n[2087 rows x 14 columns]",
      "text/html": "<div>\n<style scoped>\n    .dataframe tbody tr th:only-of-type {\n        vertical-align: middle;\n    }\n\n    .dataframe tbody tr th {\n        vertical-align: top;\n    }\n\n    .dataframe thead th {\n        text-align: right;\n    }\n</style>\n<table border=\"1\" class=\"dataframe\">\n  <thead>\n    <tr style=\"text-align: right;\">\n      <th></th>\n      <th>PassengerId</th>\n      <th>HomePlanet</th>\n      <th>CryoSleep</th>\n      <th>Cabin</th>\n      <th>Destination</th>\n      <th>Age</th>\n      <th>VIP</th>\n      <th>RoomService</th>\n      <th>FoodCourt</th>\n      <th>ShoppingMall</th>\n      <th>Spa</th>\n      <th>VRDeck</th>\n      <th>Name</th>\n      <th>Transported</th>\n    </tr>\n  </thead>\n  <tbody>\n    <tr>\n      <th>7</th>\n      <td>0006_02</td>\n      <td>Earth</td>\n      <td>True</td>\n      <td>G/0/S</td>\n      <td>TRAPPIST-1e</td>\n      <td>28.0</td>\n      <td>False</td>\n      <td>0.0</td>\n      <td>0.0</td>\n      <td>0.0</td>\n      <td>0.0</td>\n      <td>NaN</td>\n      <td>Candra Jacostaffey</td>\n      <td>True</td>\n    </tr>\n    <tr>\n      <th>10</th>\n      <td>0008_02</td>\n      <td>Europa</td>\n      <td>True</td>\n      <td>B/1/P</td>\n      <td>TRAPPIST-1e</td>\n      <td>34.0</td>\n      <td>False</td>\n      <td>0.0</td>\n      <td>0.0</td>\n      <td>NaN</td>\n      <td>0.0</td>\n      <td>0.0</td>\n      <td>Altardr Flatic</td>\n      <td>True</td>\n    </tr>\n    <tr>\n      <th>15</th>\n      <td>0012_01</td>\n      <td>Earth</td>\n      <td>False</td>\n      <td>NaN</td>\n      <td>TRAPPIST-1e</td>\n      <td>31.0</td>\n      <td>False</td>\n      <td>32.0</td>\n      <td>0.0</td>\n      <td>876.0</td>\n      <td>0.0</td>\n      <td>0.0</td>\n      <td>Justie Pooles</td>\n      <td>False</td>\n    </tr>\n    <tr>\n      <th>16</th>\n      <td>0014_01</td>\n      <td>Mars</td>\n      <td>False</td>\n      <td>F/3/P</td>\n      <td>55 Cancri e</td>\n      <td>27.0</td>\n      <td>False</td>\n      <td>1286.0</td>\n      <td>122.0</td>\n      <td>NaN</td>\n      <td>0.0</td>\n      <td>0.0</td>\n      <td>Flats Eccle</td>\n      <td>False</td>\n    </tr>\n    <tr>\n      <th>23</th>\n      <td>0020_03</td>\n      <td>Earth</td>\n      <td>True</td>\n      <td>E/0/S</td>\n      <td>55 Cancri e</td>\n      <td>29.0</td>\n      <td>False</td>\n      <td>0.0</td>\n      <td>0.0</td>\n      <td>NaN</td>\n      <td>0.0</td>\n      <td>0.0</td>\n      <td>Mollen Mcfaddennon</td>\n      <td>False</td>\n    </tr>\n    <tr>\n      <th>...</th>\n      <td>...</td>\n      <td>...</td>\n      <td>...</td>\n      <td>...</td>\n      <td>...</td>\n      <td>...</td>\n      <td>...</td>\n      <td>...</td>\n      <td>...</td>\n      <td>...</td>\n      <td>...</td>\n      <td>...</td>\n      <td>...</td>\n      <td>...</td>\n    </tr>\n    <tr>\n      <th>8667</th>\n      <td>9250_01</td>\n      <td>Europa</td>\n      <td>False</td>\n      <td>E/597/P</td>\n      <td>TRAPPIST-1e</td>\n      <td>29.0</td>\n      <td>False</td>\n      <td>0.0</td>\n      <td>2972.0</td>\n      <td>NaN</td>\n      <td>28.0</td>\n      <td>188.0</td>\n      <td>Chain Reedectied</td>\n      <td>True</td>\n    </tr>\n    <tr>\n      <th>8674</th>\n      <td>9257_01</td>\n      <td>NaN</td>\n      <td>False</td>\n      <td>F/1892/P</td>\n      <td>TRAPPIST-1e</td>\n      <td>13.0</td>\n      <td>False</td>\n      <td>39.0</td>\n      <td>0.0</td>\n      <td>1085.0</td>\n      <td>24.0</td>\n      <td>0.0</td>\n      <td>Ties Apple</td>\n      <td>False</td>\n    </tr>\n    <tr>\n      <th>8675</th>\n      <td>9259_01</td>\n      <td>Earth</td>\n      <td>NaN</td>\n      <td>F/1893/P</td>\n      <td>TRAPPIST-1e</td>\n      <td>44.0</td>\n      <td>False</td>\n      <td>1030.0</td>\n      <td>1015.0</td>\n      <td>0.0</td>\n      <td>11.0</td>\n      <td>NaN</td>\n      <td>Annah Gilleyons</td>\n      <td>True</td>\n    </tr>\n    <tr>\n      <th>8684</th>\n      <td>9274_01</td>\n      <td>NaN</td>\n      <td>True</td>\n      <td>G/1508/P</td>\n      <td>TRAPPIST-1e</td>\n      <td>23.0</td>\n      <td>False</td>\n      <td>0.0</td>\n      <td>0.0</td>\n      <td>0.0</td>\n      <td>0.0</td>\n      <td>0.0</td>\n      <td>Chelsa Bullisey</td>\n      <td>True</td>\n    </tr>\n    <tr>\n      <th>8687</th>\n      <td>9275_03</td>\n      <td>Europa</td>\n      <td>NaN</td>\n      <td>A/97/P</td>\n      <td>TRAPPIST-1e</td>\n      <td>30.0</td>\n      <td>False</td>\n      <td>0.0</td>\n      <td>3208.0</td>\n      <td>0.0</td>\n      <td>2.0</td>\n      <td>330.0</td>\n      <td>Atlasym Conable</td>\n      <td>True</td>\n    </tr>\n  </tbody>\n</table>\n<p>2087 rows × 14 columns</p>\n</div>"
     },
     "execution_count": 42,
     "metadata": {},
     "output_type": "execute_result"
    }
   ],
   "source": [
    "df[df.isna().any(axis=1)]"
   ],
   "metadata": {
    "collapsed": false,
    "ExecuteTime": {
     "end_time": "2023-06-26T14:44:49.127866Z",
     "start_time": "2023-06-26T14:44:49.084968Z"
    }
   }
  },
  {
   "cell_type": "code",
   "execution_count": 43,
   "outputs": [],
   "source": [
    "def split_cabin(x):\n",
    "    if len(str(x).split(\"/\"))<3:\n",
    "        return [\"Missing\",\"Missing\",\"Missing\"]\n",
    "    else:\n",
    "        return str(x).split(\"/\")\n"
   ],
   "metadata": {
    "collapsed": false,
    "ExecuteTime": {
     "end_time": "2023-06-26T14:44:49.127936Z",
     "start_time": "2023-06-26T14:44:49.099727Z"
    }
   }
  },
  {
   "cell_type": "code",
   "execution_count": 44,
   "outputs": [
    {
     "data": {
      "text/plain": "Index(['PassengerId', 'HomePlanet', 'CryoSleep', 'Cabin', 'Destination', 'Age',\n       'VIP', 'RoomService', 'FoodCourt', 'ShoppingMall', 'Spa', 'VRDeck',\n       'Name', 'Transported'],\n      dtype='object')"
     },
     "execution_count": 44,
     "metadata": {},
     "output_type": "execute_result"
    }
   ],
   "source": [
    "df.columns"
   ],
   "metadata": {
    "collapsed": false,
    "ExecuteTime": {
     "end_time": "2023-06-26T14:44:49.128074Z",
     "start_time": "2023-06-26T14:44:49.103489Z"
    }
   }
  },
  {
   "cell_type": "code",
   "execution_count": 45,
   "outputs": [],
   "source": [
    "#Create a preprocessing func to transform dataset\n",
    "def preprocessing(df):\n",
    "    #Fill missing in homeplanet\n",
    "    df[\"HomePlanet\"].fillna(\"Missing\",inplace=True)\n",
    "    #Cryosleep highly correlated\n",
    "    df[\"CryoSleep\"].fillna(\"Missing\",inplace=True)\n",
    "    #Cabin preprocessing (deck and side)\n",
    "    df[\"TempCabin\"] = df[\"Cabin\"].apply(lambda x:split_cabin(x))\n",
    "    df[\"Deck\"] = df[\"TempCabin\"].apply(lambda x:x[0])\n",
    "    df[\"Side\"] =df[\"TempCabin\"].apply(lambda x:x[2])\n",
    "    df.drop([\"TempCabin\",\"Cabin\"],axis=1,inplace=True)\n",
    "    #Destination\n",
    "    df[\"Destination\"].fillna(\"Missing\",inplace=True)\n",
    "    #Age\n",
    "    df[\"Age\"].fillna(df[\"Age\"].mean(),inplace=True)\n",
    "\n",
    "    #VIP-dropna\n",
    "    df[\"VIP\"].fillna(\"Missing\",inplace=True)\n",
    "    #Monetary spending columns\n",
    "    df[\"RoomService\"].fillna(0,inplace=True)\n",
    "    df[\"FoodCourt\"].fillna(0,inplace=True)\n",
    "    df[\"ShoppingMall\"].fillna(0,inplace=True)\n",
    "    df[\"Spa\"].fillna(0,inplace=True)\n",
    "    df[\"VRDeck\"].fillna(0,inplace=True)\n",
    "    #Name drop it due to high cardinality\n",
    "    df.drop(\"Name\",axis=1,inplace=True)\n",
    "    #Drop remaining rows\n",
    "    #df.dropna(inplace=True)\n"
   ],
   "metadata": {
    "collapsed": false,
    "ExecuteTime": {
     "end_time": "2023-06-26T14:44:49.128149Z",
     "start_time": "2023-06-26T14:44:49.108917Z"
    }
   }
  },
  {
   "cell_type": "code",
   "execution_count": 46,
   "outputs": [],
   "source": [
    "abt = df.copy()"
   ],
   "metadata": {
    "collapsed": false,
    "ExecuteTime": {
     "end_time": "2023-06-26T14:44:49.128215Z",
     "start_time": "2023-06-26T14:44:49.113097Z"
    }
   }
  },
  {
   "cell_type": "code",
   "execution_count": 47,
   "outputs": [
    {
     "data": {
      "text/plain": "  PassengerId HomePlanet CryoSleep  Cabin  Destination   Age    VIP  \\\n0     0001_01     Europa     False  B/0/P  TRAPPIST-1e  39.0  False   \n1     0002_01      Earth     False  F/0/S  TRAPPIST-1e  24.0  False   \n2     0003_01     Europa     False  A/0/S  TRAPPIST-1e  58.0   True   \n3     0003_02     Europa     False  A/0/S  TRAPPIST-1e  33.0  False   \n4     0004_01      Earth     False  F/1/S  TRAPPIST-1e  16.0  False   \n\n   RoomService  FoodCourt  ShoppingMall     Spa  VRDeck               Name  \\\n0          0.0        0.0           0.0     0.0     0.0    Maham Ofracculy   \n1        109.0        9.0          25.0   549.0    44.0       Juanna Vines   \n2         43.0     3576.0           0.0  6715.0    49.0      Altark Susent   \n3          0.0     1283.0         371.0  3329.0   193.0       Solam Susent   \n4        303.0       70.0         151.0   565.0     2.0  Willy Santantines   \n\n   Transported  \n0        False  \n1         True  \n2        False  \n3        False  \n4         True  ",
      "text/html": "<div>\n<style scoped>\n    .dataframe tbody tr th:only-of-type {\n        vertical-align: middle;\n    }\n\n    .dataframe tbody tr th {\n        vertical-align: top;\n    }\n\n    .dataframe thead th {\n        text-align: right;\n    }\n</style>\n<table border=\"1\" class=\"dataframe\">\n  <thead>\n    <tr style=\"text-align: right;\">\n      <th></th>\n      <th>PassengerId</th>\n      <th>HomePlanet</th>\n      <th>CryoSleep</th>\n      <th>Cabin</th>\n      <th>Destination</th>\n      <th>Age</th>\n      <th>VIP</th>\n      <th>RoomService</th>\n      <th>FoodCourt</th>\n      <th>ShoppingMall</th>\n      <th>Spa</th>\n      <th>VRDeck</th>\n      <th>Name</th>\n      <th>Transported</th>\n    </tr>\n  </thead>\n  <tbody>\n    <tr>\n      <th>0</th>\n      <td>0001_01</td>\n      <td>Europa</td>\n      <td>False</td>\n      <td>B/0/P</td>\n      <td>TRAPPIST-1e</td>\n      <td>39.0</td>\n      <td>False</td>\n      <td>0.0</td>\n      <td>0.0</td>\n      <td>0.0</td>\n      <td>0.0</td>\n      <td>0.0</td>\n      <td>Maham Ofracculy</td>\n      <td>False</td>\n    </tr>\n    <tr>\n      <th>1</th>\n      <td>0002_01</td>\n      <td>Earth</td>\n      <td>False</td>\n      <td>F/0/S</td>\n      <td>TRAPPIST-1e</td>\n      <td>24.0</td>\n      <td>False</td>\n      <td>109.0</td>\n      <td>9.0</td>\n      <td>25.0</td>\n      <td>549.0</td>\n      <td>44.0</td>\n      <td>Juanna Vines</td>\n      <td>True</td>\n    </tr>\n    <tr>\n      <th>2</th>\n      <td>0003_01</td>\n      <td>Europa</td>\n      <td>False</td>\n      <td>A/0/S</td>\n      <td>TRAPPIST-1e</td>\n      <td>58.0</td>\n      <td>True</td>\n      <td>43.0</td>\n      <td>3576.0</td>\n      <td>0.0</td>\n      <td>6715.0</td>\n      <td>49.0</td>\n      <td>Altark Susent</td>\n      <td>False</td>\n    </tr>\n    <tr>\n      <th>3</th>\n      <td>0003_02</td>\n      <td>Europa</td>\n      <td>False</td>\n      <td>A/0/S</td>\n      <td>TRAPPIST-1e</td>\n      <td>33.0</td>\n      <td>False</td>\n      <td>0.0</td>\n      <td>1283.0</td>\n      <td>371.0</td>\n      <td>3329.0</td>\n      <td>193.0</td>\n      <td>Solam Susent</td>\n      <td>False</td>\n    </tr>\n    <tr>\n      <th>4</th>\n      <td>0004_01</td>\n      <td>Earth</td>\n      <td>False</td>\n      <td>F/1/S</td>\n      <td>TRAPPIST-1e</td>\n      <td>16.0</td>\n      <td>False</td>\n      <td>303.0</td>\n      <td>70.0</td>\n      <td>151.0</td>\n      <td>565.0</td>\n      <td>2.0</td>\n      <td>Willy Santantines</td>\n      <td>True</td>\n    </tr>\n  </tbody>\n</table>\n</div>"
     },
     "execution_count": 47,
     "metadata": {},
     "output_type": "execute_result"
    }
   ],
   "source": [
    "abt.head()\n"
   ],
   "metadata": {
    "collapsed": false,
    "ExecuteTime": {
     "end_time": "2023-06-26T14:44:49.128544Z",
     "start_time": "2023-06-26T14:44:49.120258Z"
    }
   }
  },
  {
   "cell_type": "code",
   "execution_count": 48,
   "outputs": [],
   "source": [
    "preprocessing(abt)\n"
   ],
   "metadata": {
    "collapsed": false,
    "ExecuteTime": {
     "end_time": "2023-06-26T14:44:49.139192Z",
     "start_time": "2023-06-26T14:44:49.125657Z"
    }
   }
  },
  {
   "cell_type": "code",
   "execution_count": 49,
   "outputs": [
    {
     "name": "stdout",
     "output_type": "stream",
     "text": [
      "<class 'pandas.core.frame.DataFrame'>\n",
      "RangeIndex: 8693 entries, 0 to 8692\n",
      "Data columns (total 14 columns):\n",
      " #   Column        Non-Null Count  Dtype  \n",
      "---  ------        --------------  -----  \n",
      " 0   PassengerId   8693 non-null   object \n",
      " 1   HomePlanet    8693 non-null   object \n",
      " 2   CryoSleep     8693 non-null   object \n",
      " 3   Destination   8693 non-null   object \n",
      " 4   Age           8693 non-null   float64\n",
      " 5   VIP           8693 non-null   object \n",
      " 6   RoomService   8693 non-null   float64\n",
      " 7   FoodCourt     8693 non-null   float64\n",
      " 8   ShoppingMall  8693 non-null   float64\n",
      " 9   Spa           8693 non-null   float64\n",
      " 10  VRDeck        8693 non-null   float64\n",
      " 11  Transported   8693 non-null   bool   \n",
      " 12  Deck          8693 non-null   object \n",
      " 13  Side          8693 non-null   object \n",
      "dtypes: bool(1), float64(6), object(7)\n",
      "memory usage: 891.5+ KB\n"
     ]
    }
   ],
   "source": [
    "abt.info()"
   ],
   "metadata": {
    "collapsed": false,
    "ExecuteTime": {
     "end_time": "2023-06-26T14:44:49.145502Z",
     "start_time": "2023-06-26T14:44:49.140991Z"
    }
   }
  },
  {
   "cell_type": "markdown",
   "source": [
    "Modeling"
   ],
   "metadata": {
    "collapsed": false
   }
  },
  {
   "cell_type": "code",
   "execution_count": 50,
   "outputs": [],
   "source": [
    "from sklearn.model_selection import train_test_split\n",
    "from sklearn.pipeline import make_pipeline\n",
    "from sklearn.preprocessing import StandardScaler"
   ],
   "metadata": {
    "collapsed": false,
    "ExecuteTime": {
     "end_time": "2023-06-26T14:44:49.178426Z",
     "start_time": "2023-06-26T14:44:49.146449Z"
    }
   }
  },
  {
   "cell_type": "code",
   "execution_count": 51,
   "outputs": [],
   "source": [
    "X = abt.drop([\"Transported\",\"PassengerId\"],axis=1)\n",
    "X = pd.get_dummies(X)\n",
    "y = abt[\"Transported\"]"
   ],
   "metadata": {
    "collapsed": false,
    "ExecuteTime": {
     "end_time": "2023-06-26T14:44:49.199030Z",
     "start_time": "2023-06-26T14:44:49.150211Z"
    }
   }
  },
  {
   "cell_type": "code",
   "execution_count": 52,
   "outputs": [],
   "source": [
    "#Create training and testing\n",
    "X_train, X_test, y_train, y_test = train_test_split(X, y, test_size=0.3, random_state=101)"
   ],
   "metadata": {
    "collapsed": false,
    "ExecuteTime": {
     "end_time": "2023-06-26T14:44:49.271346Z",
     "start_time": "2023-06-26T14:44:49.161217Z"
    }
   }
  },
  {
   "cell_type": "code",
   "execution_count": 53,
   "outputs": [
    {
     "data": {
      "text/plain": "<Axes: xlabel='Transported', ylabel='count'>"
     },
     "execution_count": 53,
     "metadata": {},
     "output_type": "execute_result"
    },
    {
     "data": {
      "text/plain": "<Figure size 640x480 with 1 Axes>",
      "image/png": "[encoded data removed]"
     },
     "metadata": {},
     "output_type": "display_data"
    }
   ],
   "source": [
    "sns.countplot(x=\"Transported\",data=abt)"
   ],
   "metadata": {
    "collapsed": false,
    "ExecuteTime": {
     "end_time": "2023-06-26T14:44:49.501256Z",
     "start_time": "2023-06-26T14:44:49.167259Z"
    }
   }
  },
  {
   "cell_type": "code",
   "execution_count": 54,
   "outputs": [],
   "source": [
    "from sklearn.ensemble import RandomForestClassifier,GradientBoostingClassifier\n",
    "from sklearn.model_selection import GridSearchCV"
   ],
   "metadata": {
    "collapsed": false,
    "ExecuteTime": {
     "end_time": "2023-06-26T14:44:49.505683Z",
     "start_time": "2023-06-26T14:44:49.276537Z"
    }
   }
  },
  {
   "cell_type": "code",
   "execution_count": 55,
   "outputs": [],
   "source": [
    "pipelines = {\n",
    "    \"rf\": make_pipeline(StandardScaler(), RandomForestClassifier(random_state=101)),\n",
    "    \"gb\": make_pipeline(StandardScaler(), GradientBoostingClassifier(random_state=101)),\n",
    "}\n"
   ],
   "metadata": {
    "collapsed": false,
    "ExecuteTime": {
     "end_time": "2023-06-26T14:44:49.525140Z",
     "start_time": "2023-06-26T14:44:49.284522Z"
    }
   }
  },
  {
   "cell_type": "code",
   "execution_count": 56,
   "outputs": [
    {
     "data": {
      "text/plain": "{'rf': Pipeline(steps=[('standardscaler', StandardScaler()),\n                 ('randomforestclassifier',\n                  RandomForestClassifier(random_state=101))]),\n 'gb': Pipeline(steps=[('standardscaler', StandardScaler()),\n                 ('gradientboostingclassifier',\n                  GradientBoostingClassifier(random_state=101))])}"
     },
     "execution_count": 56,
     "metadata": {},
     "output_type": "execute_result"
    }
   ],
   "source": [
    "pipelines"
   ],
   "metadata": {
    "collapsed": false,
    "ExecuteTime": {
     "end_time": "2023-06-26T14:44:49.525450Z",
     "start_time": "2023-06-26T14:44:49.289300Z"
    }
   }
  },
  {
   "cell_type": "code",
   "execution_count": 57,
   "outputs": [],
   "source": [
    "grid = {\n",
    "    \"rf\": {\n",
    "        \"randomforestclassifier__n_estimators\": [50, 100]\n",
    "\n",
    "    },\n",
    "    \"gb\": {\n",
    "        \"gradientboostingclassifier__n_estimators\": [50, 100],\n",
    "        \"gradientboostingclassifier__learning_rate\": [0.1, 0.5],\n",
    "        \"gradientboostingclassifier__max_depth\": [5, 7],\n",
    "        \"gradientboostingclassifier__min_samples_split\": [5, 10],\n",
    "        \"gradientboostingclassifier__min_samples_leaf\": [2, 4],\n",
    "        \"gradientboostingclassifier__subsample\": [0.8, 1.0]\n",
    "    }\n",
    "}\n"
   ],
   "metadata": {
    "collapsed": false,
    "ExecuteTime": {
     "end_time": "2023-06-26T14:44:49.525606Z",
     "start_time": "2023-06-26T14:44:49.300841Z"
    }
   }
  },
  {
   "cell_type": "code",
   "execution_count": 58,
   "outputs": [
    {
     "name": "stdout",
     "output_type": "stream",
     "text": [
      "Training rf\n",
      "Training gb\n"
     ]
    }
   ],
   "source": [
    "fit_models = {}\n",
    "for algo,pipeline in pipelines.items():\n",
    "    print(f\"Training {algo}\")\n",
    "    model = GridSearchCV(pipeline,grid[algo],n_jobs=-1,cv=10)\n",
    "    model.fit(X_train,y_train)\n",
    "    fit_models[algo]=model\n"
   ],
   "metadata": {
    "collapsed": false,
    "ExecuteTime": {
     "end_time": "2023-06-26T14:46:11.606987Z",
     "start_time": "2023-06-26T14:44:49.328718Z"
    }
   }
  },
  {
   "cell_type": "code",
   "execution_count": 59,
   "outputs": [
    {
     "data": {
      "text/plain": "{'rf': GridSearchCV(cv=10,\n              estimator=Pipeline(steps=[('standardscaler', StandardScaler()),\n                                        ('randomforestclassifier',\n                                         RandomForestClassifier(random_state=101))]),\n              n_jobs=-1,\n              param_grid={'randomforestclassifier__n_estimators': [50, 100]}),\n 'gb': GridSearchCV(cv=10,\n              estimator=Pipeline(steps=[('standardscaler', StandardScaler()),\n                                        ('gradientboostingclassifier',\n                                         GradientBoostingClassifier(random_state=101))]),\n              n_jobs=-1,\n              param_grid={'gradientboostingclassifier__learning_rate': [0.1,\n                                                                        0.5],\n                          'gradientboostingclassifier__max_depth': [5, 7],\n                          'gradientboostingclassifier__min_samples_leaf': [2, 4],\n                          'gradientboostingclassifier__min_samples_split': [5,\n                                                                            10],\n                          'gradientboostingclassifier__n_estimators': [50, 100],\n                          'gradientboostingclassifier__subsample': [0.8, 1.0]})}"
     },
     "execution_count": 59,
     "metadata": {},
     "output_type": "execute_result"
    }
   ],
   "source": [
    "from sklearn.metrics import accuracy_score,precision_score,recall_score\n",
    "fit_models"
   ],
   "metadata": {
    "collapsed": false,
    "ExecuteTime": {
     "end_time": "2023-06-26T14:46:11.614885Z",
     "start_time": "2023-06-26T14:46:11.612250Z"
    }
   }
  },
  {
   "cell_type": "code",
   "execution_count": 60,
   "outputs": [
    {
     "name": "stdout",
     "output_type": "stream",
     "text": [
      "Metrics for rf:accuracy-0.8109662576687117 recall-0.8296409472880061 precision-0.8008849557522124\n",
      "Metrics for gb:accuracy-0.8109662576687117 recall-0.8296409472880061 precision-0.8008849557522124\n"
     ]
    }
   ],
   "source": [
    "for algo,pipeline in fit_models.items():\n",
    "    y_hat = model.predict(X_test)\n",
    "    accuracy = accuracy_score(y_test,y_hat)\n",
    "    precision = precision_score(y_test,y_hat)\n",
    "    recall = recall_score(y_test,y_hat)\n",
    "    print(f\"Metrics for {algo}:accuracy-{accuracy} recall-{recall} precision-{precision}\")"
   ],
   "metadata": {
    "collapsed": false,
    "ExecuteTime": {
     "end_time": "2023-06-26T14:46:11.650265Z",
     "start_time": "2023-06-26T14:46:11.616463Z"
    }
   }
  },
  {
   "cell_type": "code",
   "execution_count": 61,
   "outputs": [],
   "source": [
    "import pickle"
   ],
   "metadata": {
    "collapsed": false,
    "ExecuteTime": {
     "end_time": "2023-06-26T14:46:11.650553Z",
     "start_time": "2023-06-26T14:46:11.634318Z"
    }
   }
  },
  {
   "cell_type": "code",
   "execution_count": 62,
   "outputs": [],
   "source": [
    "with open(\"gradientboosting.pkl\",\"wb\") as f:\n",
    "    pickle.dump(fit_models[\"gb\"],f)"
   ],
   "metadata": {
    "collapsed": false,
    "ExecuteTime": {
     "end_time": "2023-06-26T14:46:11.650678Z",
     "start_time": "2023-06-26T14:46:11.637748Z"
    }
   }
  },
  {
   "cell_type": "code",
   "execution_count": 63,
   "outputs": [],
   "source": [
    "\n",
    "#with open(\"gradientboosting.pkl\", \"rb\") as f:\n",
    "#    loaded_model = pickle.load(f)\n"
   ],
   "metadata": {
    "collapsed": false,
    "ExecuteTime": {
     "end_time": "2023-06-26T14:46:11.650739Z",
     "start_time": "2023-06-26T14:46:11.642506Z"
    }
   }
  },
  {
   "cell_type": "markdown",
   "source": [
    "Predict"
   ],
   "metadata": {
    "collapsed": false
   }
  },
  {
   "cell_type": "code",
   "execution_count": 64,
   "outputs": [],
   "source": [
    "test_df = pd.read_csv(\"./spaceship-titanic/test.csv\")\n",
    "abt_test = test_df.copy()\n",
    "preprocessing(abt_test)\n",
    "abt_test = pd.get_dummies(abt_test.drop(\"PassengerId\",axis=1))"
   ],
   "metadata": {
    "collapsed": false,
    "ExecuteTime": {
     "end_time": "2023-06-26T14:46:11.664993Z",
     "start_time": "2023-06-26T14:46:11.646560Z"
    }
   }
  },
  {
   "cell_type": "code",
   "execution_count": 65,
   "outputs": [
    {
     "name": "stdout",
     "output_type": "stream",
     "text": [
      "<class 'pandas.core.frame.DataFrame'>\n",
      "RangeIndex: 4277 entries, 0 to 4276\n",
      "Data columns (total 32 columns):\n",
      " #   Column                     Non-Null Count  Dtype  \n",
      "---  ------                     --------------  -----  \n",
      " 0   Age                        4277 non-null   float64\n",
      " 1   RoomService                4277 non-null   float64\n",
      " 2   FoodCourt                  4277 non-null   float64\n",
      " 3   ShoppingMall               4277 non-null   float64\n",
      " 4   Spa                        4277 non-null   float64\n",
      " 5   VRDeck                     4277 non-null   float64\n",
      " 6   HomePlanet_Earth           4277 non-null   bool   \n",
      " 7   HomePlanet_Europa          4277 non-null   bool   \n",
      " 8   HomePlanet_Mars            4277 non-null   bool   \n",
      " 9   HomePlanet_Missing         4277 non-null   bool   \n",
      " 10  CryoSleep_False            4277 non-null   bool   \n",
      " 11  CryoSleep_True             4277 non-null   bool   \n",
      " 12  CryoSleep_Missing          4277 non-null   bool   \n",
      " 13  Destination_55 Cancri e    4277 non-null   bool   \n",
      " 14  Destination_Missing        4277 non-null   bool   \n",
      " 15  Destination_PSO J318.5-22  4277 non-null   bool   \n",
      " 16  Destination_TRAPPIST-1e    4277 non-null   bool   \n",
      " 17  VIP_False                  4277 non-null   bool   \n",
      " 18  VIP_True                   4277 non-null   bool   \n",
      " 19  VIP_Missing                4277 non-null   bool   \n",
      " 20  Deck_A                     4277 non-null   bool   \n",
      " 21  Deck_B                     4277 non-null   bool   \n",
      " 22  Deck_C                     4277 non-null   bool   \n",
      " 23  Deck_D                     4277 non-null   bool   \n",
      " 24  Deck_E                     4277 non-null   bool   \n",
      " 25  Deck_F                     4277 non-null   bool   \n",
      " 26  Deck_G                     4277 non-null   bool   \n",
      " 27  Deck_Missing               4277 non-null   bool   \n",
      " 28  Deck_T                     4277 non-null   bool   \n",
      " 29  Side_Missing               4277 non-null   bool   \n",
      " 30  Side_P                     4277 non-null   bool   \n",
      " 31  Side_S                     4277 non-null   bool   \n",
      "dtypes: bool(26), float64(6)\n",
      "memory usage: 309.2 KB\n"
     ]
    }
   ],
   "source": [
    "abt_test.info()"
   ],
   "metadata": {
    "collapsed": false,
    "ExecuteTime": {
     "end_time": "2023-06-26T14:46:11.692115Z",
     "start_time": "2023-06-26T14:46:11.665668Z"
    }
   }
  },
  {
   "cell_type": "code",
   "execution_count": 66,
   "outputs": [],
   "source": [
    "y_hat_test = fit_models[\"gb\"].predict(abt_test)"
   ],
   "metadata": {
    "collapsed": false,
    "ExecuteTime": {
     "end_time": "2023-06-26T14:46:11.698692Z",
     "start_time": "2023-06-26T14:46:11.675787Z"
    }
   }
  },
  {
   "cell_type": "code",
   "execution_count": 67,
   "outputs": [],
   "source": [
    "submission = pd.DataFrame([test_df[\"PassengerId\"],y_hat_test])\n",
    "submission = submission.T\n",
    "submission.columns = ['PassengerId',\"Transported\"]"
   ],
   "metadata": {
    "collapsed": false,
    "ExecuteTime": {
     "end_time": "2023-06-26T14:46:11.732483Z",
     "start_time": "2023-06-26T14:46:11.692306Z"
    }
   }
  },
  {
   "cell_type": "code",
   "execution_count": 68,
   "outputs": [],
   "source": [
    "submission.to_csv('kaggle_submission.csv', index=False, header=True)"
   ],
   "metadata": {
    "collapsed": false,
    "ExecuteTime": {
     "end_time": "2023-06-26T14:46:11.739119Z",
     "start_time": "2023-06-26T14:46:11.732850Z"
    }
   }
  },
  {
   "cell_type": "markdown",
   "source": [
    "Public Score: 0.79682\n"
   ],
   "metadata": {
    "collapsed": false
   }
  },
  {
   "cell_type": "code",
   "execution_count": 68,
   "outputs": [],
   "source": [],
   "metadata": {
    "collapsed": false,
    "ExecuteTime": {
     "end_time": "2023-06-26T14:46:11.741075Z",
     "start_time": "2023-06-26T14:46:11.739388Z"
    }
   }
  }
 ],
 "metadata": {
  "kernelspec": {
   "display_name": "Python 3",
   "language": "python",
   "name": "python3"
  },
  "language_info": {
   "codemirror_mode": {
    "name": "ipython",
    "version": 2
   },
   "file_extension": ".py",
   "mimetype": "text/x-python",
   "name": "python",
   "nbconvert_exporter": "python",
   "pygments_lexer": "ipython2",
   "version": "2.7.6"
  }
 },
 "nbformat": 4,
 "nbformat_minor": 0
}
